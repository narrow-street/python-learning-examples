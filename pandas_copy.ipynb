{
 "nbformat": 4,
 "nbformat_minor": 2,
 "metadata": {
  "language_info": {
   "name": "python",
   "codemirror_mode": {
    "name": "ipython",
    "version": 3
   },
   "version": "3"
  },
  "orig_nbformat": 2,
  "file_extension": ".py",
  "mimetype": "text/x-python",
  "name": "python",
  "npconvert_exporter": "python",
  "pygments_lexer": "ipython3",
  "version": 3,
  "kernelspec": {
   "name": "python37664bit1361f1ca3f284c8b960ba329cf12d0ea",
   "display_name": "Python 3.7.6 64-bit"
  }
 },
 "cells": [
  {
   "cell_type": "markdown",
   "metadata": {},
   "source": [
    "# Copy in Pandas"
   ]
  },
  {
   "cell_type": "markdown",
   "metadata": {},
   "source": [
    "From pandas documentation\n",
    "> Copying an object containing Python objects, a deep copy will copy the data, but will not do so recursively. Updating a nested data object will be reflected in the deep copy.```\n",
    "\n",
    "refs: \n",
    "* https://pandas.pydata.org/pandas-docs/stable/reference/api/pandas.DataFrame.copy.html\n",
    "* https://stackoverflow.com/questions/52708341/make-a-truly-deep-copy-of-a-pandas-series"
   ]
  },
  {
   "cell_type": "code",
   "execution_count": 238,
   "metadata": {},
   "outputs": [
    {
     "output_type": "execute_result",
     "data": {
      "text/plain": "        data\n0  [0, 1, 2]\n1  [0, 1, 2]",
      "text/html": "<div>\n<style scoped>\n    .dataframe tbody tr th:only-of-type {\n        vertical-align: middle;\n    }\n\n    .dataframe tbody tr th {\n        vertical-align: top;\n    }\n\n    .dataframe thead th {\n        text-align: right;\n    }\n</style>\n<table border=\"1\" class=\"dataframe\">\n  <thead>\n    <tr style=\"text-align: right;\">\n      <th></th>\n      <th>data</th>\n    </tr>\n  </thead>\n  <tbody>\n    <tr>\n      <th>0</th>\n      <td>[0, 1, 2]</td>\n    </tr>\n    <tr>\n      <th>1</th>\n      <td>[0, 1, 2]</td>\n    </tr>\n  </tbody>\n</table>\n</div>"
     },
     "metadata": {},
     "execution_count": 238
    }
   ],
   "source": [
    " # importing pandas module \n",
    "import pandas as pd \n",
    "from copy import deepcopy \n",
    "  \n",
    "# creating sample series \n",
    "df = pd.DataFrame({'data': [list(range(3)), list(range(3))] })\n",
    "df"
   ]
  },
  {
   "cell_type": "code",
   "execution_count": 239,
   "metadata": {},
   "outputs": [],
   "source": [
    "# using pandas.copy(deep=True)\n",
    "df['pd.copy(deep=True)'] = df['data'].copy(deep=True)\n",
    "\n",
    "# call copy.deepcopy \n",
    "df['deepcopy()'] = deepcopy(df['data'])\n",
    "\n",
    "# apply copy.deepcopy along the column\n",
    "df['apply.(deepcopy)'] = df['data'].apply(deepcopy)\n"
   ]
  },
  {
   "cell_type": "code",
   "execution_count": 240,
   "metadata": {},
   "outputs": [
    {
     "output_type": "execute_result",
     "data": {
      "text/plain": "           data pd.copy(deep=True)    deepcopy() apply.(deepcopy)\n0     [0, 1, 2]          [0, 1, 2]     [0, 1, 2]        [0, 1, 2]\n1  [0, 1, 2, 3]       [0, 1, 2, 3]  [0, 1, 2, 3]        [0, 1, 2]",
      "text/html": "<div>\n<style scoped>\n    .dataframe tbody tr th:only-of-type {\n        vertical-align: middle;\n    }\n\n    .dataframe tbody tr th {\n        vertical-align: top;\n    }\n\n    .dataframe thead th {\n        text-align: right;\n    }\n</style>\n<table border=\"1\" class=\"dataframe\">\n  <thead>\n    <tr style=\"text-align: right;\">\n      <th></th>\n      <th>data</th>\n      <th>pd.copy(deep=True)</th>\n      <th>deepcopy()</th>\n      <th>apply.(deepcopy)</th>\n    </tr>\n  </thead>\n  <tbody>\n    <tr>\n      <th>0</th>\n      <td>[0, 1, 2]</td>\n      <td>[0, 1, 2]</td>\n      <td>[0, 1, 2]</td>\n      <td>[0, 1, 2]</td>\n    </tr>\n    <tr>\n      <th>1</th>\n      <td>[0, 1, 2, 3]</td>\n      <td>[0, 1, 2, 3]</td>\n      <td>[0, 1, 2, 3]</td>\n      <td>[0, 1, 2]</td>\n    </tr>\n  </tbody>\n</table>\n</div>"
     },
     "metadata": {},
     "execution_count": 240
    }
   ],
   "source": [
    "df['data'][1].append(3)\n",
    "df"
   ]
  },
  {
   "cell_type": "markdown",
   "metadata": {},
   "source": [
    "Only the last case seems to create a truely deep copy \n",
    "\n",
    "Takeaway: \n",
    "* Be super cautious if you dataframe cells have nested objects (e.g. `list`, `numpy.array`, `dict`)"
   ]
  },
  {
   "cell_type": "code",
   "execution_count": null,
   "metadata": {},
   "outputs": [],
   "source": []
  }
 ]
}
