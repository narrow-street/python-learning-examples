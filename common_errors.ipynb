{
 "cells": [
  {
   "cell_type": "markdown",
   "metadata": {},
   "source": [
    "# Common Errors"
   ]
  },
  {
   "cell_type": "markdown",
   "metadata": {},
   "source": [
    "### Update Variables"
   ]
  },
  {
   "cell_type": "markdown",
   "metadata": {},
   "source": [
    "`append`\n",
    "* The Wrong Way"
   ]
  },
  {
   "cell_type": "code",
   "execution_count": null,
   "metadata": {},
   "outputs": [],
   "source": [
    "animals = ['dog', 'cat', 'panda']\n",
    "more_animals = animals.append('giraffe')\n",
    "print(more_animals)"
   ]
  },
  {
   "cell_type": "markdown",
   "metadata": {},
   "source": [
    "* The Right Way"
   ]
  },
  {
   "cell_type": "code",
   "execution_count": null,
   "metadata": {},
   "outputs": [],
   "source": [
    "animals = ['dog', 'cat', 'panda']\n",
    "animals.append('giraffe')\n",
    "print(animals)"
   ]
  },
  {
   "cell_type": "markdown",
   "metadata": {},
   "source": [
    "`sort`\n",
    "* The Wrong Way"
   ]
  },
  {
   "cell_type": "code",
   "execution_count": null,
   "metadata": {},
   "outputs": [],
   "source": [
    "seq = [1, 5, 4, 2, 3]\n",
    "sorted_seq = seq.sort()\n",
    "print(sorted_seq)"
   ]
  },
  {
   "cell_type": "markdown",
   "metadata": {},
   "source": [
    "* The Right Way"
   ]
  },
  {
   "cell_type": "code",
   "execution_count": null,
   "metadata": {},
   "outputs": [],
   "source": [
    "seq = [1, 5, 4, 2, 3]\n",
    "seq.sort()\n",
    "print(seq)"
   ]
  },
  {
   "cell_type": "markdown",
   "metadata": {},
   "source": [
    "or"
   ]
  },
  {
   "cell_type": "code",
   "execution_count": null,
   "metadata": {},
   "outputs": [],
   "source": [
    "seq = [1, 5, 4, 2, 3]\n",
    "sorted_seq = sorted(seq)\n",
    "print(sorted_seq)"
   ]
  },
  {
   "cell_type": "markdown",
   "metadata": {},
   "source": [
    "### Python List Methods vs. Numy Array Methods"
   ]
  },
  {
   "cell_type": "markdown",
   "metadata": {},
   "source": [
    "* Multiplication `*`"
   ]
  },
  {
   "cell_type": "code",
   "execution_count": null,
   "metadata": {},
   "outputs": [],
   "source": [
    "list_ = [1, 3, 4] \n",
    "new_list = list_ * 3\n",
    "print(new_list)"
   ]
  },
  {
   "cell_type": "code",
   "execution_count": null,
   "metadata": {},
   "outputs": [],
   "source": [
    "import numpy as np\n",
    "arr = np.array(list_) \n",
    "new_arr = arr * 3\n",
    "print(new_arr)"
   ]
  },
  {
   "cell_type": "markdown",
   "metadata": {},
   "source": [
    "* Concatenation/Add `+`"
   ]
  },
  {
   "cell_type": "code",
   "execution_count": null,
   "metadata": {},
   "outputs": [],
   "source": [
    "list1, list2 = [1, 2, 3], [4, 5, 7]\n",
    "new_list = list1 + list2\n",
    "print(new_list)"
   ]
  },
  {
   "cell_type": "code",
   "execution_count": null,
   "metadata": {},
   "outputs": [],
   "source": [
    "arr1, arr2 = np.array(list1), np.array(list2)\n",
    "new_arr = arr1 + arr2\n",
    "print(new_arr)"
   ]
  },
  {
   "cell_type": "markdown",
   "metadata": {},
   "source": [
    "- COPY \n",
    "\n",
    "    - `copy.copy`      (shallow copy)\n",
    "    - `numpy.copy`     (deep copy) \n",
    "    - `copy.deepcopy`\n",
    "    - `numpy.view`\n"
   ]
  },
  {
   "cell_type": "code",
   "execution_count": null,
   "metadata": {},
   "outputs": [],
   "source": [
    "# copy.copy (shallow copy)\n",
    "import copy\n",
    "\n",
    "old_list = [[1,2,3], [4,5,6]]\n",
    "new_list = old_list.copy()\n",
    "# new_list = copy.copy(old_list)\n",
    "old_list[0][0] = 100\n",
    "\n",
    "print('old_list:\\n', old_list)\n",
    "print('\\nnew_list:\\n', new_list)"
   ]
  },
  {
   "cell_type": "code",
   "execution_count": null,
   "metadata": {},
   "outputs": [],
   "source": [
    "# numpy.copy (deep copy)\n",
    "\n",
    "old_arr = np.array([[1,2,3], [4,5,6]])\n",
    "new_arr = old_arr.copy()\n",
    "# new_arr = np.copy(old_arr)\n",
    "old_arr[0][0] = 100\n",
    "\n",
    "print('old_arr:\\n', old_arr)\n",
    "print('\\nnew_arr:\\n', new_arr)"
   ]
  },
  {
   "cell_type": "code",
   "execution_count": null,
   "metadata": {},
   "outputs": [],
   "source": [
    "# copy.deepcopy\n",
    "\n",
    "old_list = [[1,2,3], [4,5,6]]\n",
    "new_list = copy.deepcopy(old_list)\n",
    "old_list[0][0] = 100\n",
    "\n",
    "print('old_list:\\n', old_list)\n",
    "print('\\nnew_list:\\n', new_list)"
   ]
  },
  {
   "cell_type": "code",
   "execution_count": null,
   "metadata": {},
   "outputs": [],
   "source": [
    "# numpy.view\n",
    "\n",
    "old_arr = np.array([[1,2,3], [4,5,6]])\n",
    "new_arr = old_arr.view().reshape(3,2)\n",
    "old_arr[0][0] = 100\n",
    "\n",
    "print('old_arr:\\n', old_arr)\n",
    "print('\\nnew_arr:\\n', new_arr)"
   ]
  },
  {
   "cell_type": "markdown",
   "metadata": {},
   "source": [
    "### Iteration"
   ]
  },
  {
   "cell_type": "code",
   "execution_count": null,
   "metadata": {},
   "outputs": [],
   "source": [
    "list1 = ['apple']\n",
    "tuple1 = ('apple')\n",
    "tuple2 = ('apple',)\n",
    "\n",
    "print('list1:')\n",
    "for item in list1:\n",
    "    print(item)\n",
    "\n",
    "print('\\ntuple1:')\n",
    "for item in tuple1:\n",
    "    print(item)\n",
    "\n",
    "print('\\ntuple2:')\n",
    "for item in tuple2:\n",
    "    print(item)"
   ]
  },
  {
   "cell_type": "code",
   "execution_count": null,
   "metadata": {},
   "outputs": [],
   "source": [
    "animals = ['cat', 'dog', 'panda']\n",
    "\n",
    "print('indexing:')\n",
    "for animal in animals[0]:\n",
    "    print(animal)\n",
    "\n",
    "print('\\nslicing:')\n",
    "for animal in animals[:1]:\n",
    "    print(animal)"
   ]
  },
  {
   "cell_type": "code",
   "execution_count": null,
   "metadata": {},
   "outputs": [],
   "source": []
  }
 ],
 "metadata": {
  "file_extension": ".py",
  "kernelspec": {
   "display_name": "Python 3",
   "language": "python",
   "name": "python3"
  },
  "language_info": {
   "codemirror_mode": {
    "name": "ipython",
    "version": 3
   },
   "file_extension": ".py",
   "mimetype": "text/x-python",
   "name": "python",
   "nbconvert_exporter": "python",
   "pygments_lexer": "ipython3",
   "version": "3.7.6"
  },
  "mimetype": "text/x-python",
  "name": "python",
  "npconvert_exporter": "python",
  "pygments_lexer": "ipython3",
  "version": 3
 },
 "nbformat": 4,
 "nbformat_minor": 2
}
