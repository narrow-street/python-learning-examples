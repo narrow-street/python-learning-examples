{
 "nbformat": 4,
 "nbformat_minor": 2,
 "metadata": {
  "language_info": {
   "name": "python",
   "codemirror_mode": {
    "name": "ipython",
    "version": 3
   },
   "version": "3.7.6-final"
  },
  "orig_nbformat": 2,
  "file_extension": ".py",
  "mimetype": "text/x-python",
  "name": "python",
  "npconvert_exporter": "python",
  "pygments_lexer": "ipython3",
  "version": 3,
  "kernelspec": {
   "name": "python37664bit1361f1ca3f284c8b960ba329cf12d0ea",
   "display_name": "Python 3.7.6 64-bit"
  }
 },
 "cells": [
  {
   "cell_type": "markdown",
   "metadata": {},
   "source": [
    "# Common Errors"
   ]
  },
  {
   "cell_type": "markdown",
   "metadata": {},
   "source": [
    "### Update Variables"
   ]
  },
  {
   "cell_type": "markdown",
   "metadata": {},
   "source": [
    "`append`\n",
    "* The Wrong Way"
   ]
  },
  {
   "cell_type": "code",
   "execution_count": 36,
   "metadata": {},
   "outputs": [
    {
     "output_type": "stream",
     "name": "stdout",
     "text": "None\n"
    }
   ],
   "source": [
    "animals = ['dog', 'cat', 'panda']\n",
    "more_animals = animals.append('giraffe')\n",
    "print(more_animals)"
   ]
  },
  {
   "cell_type": "markdown",
   "metadata": {},
   "source": [
    "* The Right Way"
   ]
  },
  {
   "cell_type": "code",
   "execution_count": 3,
   "metadata": {},
   "outputs": [
    {
     "output_type": "stream",
     "name": "stdout",
     "text": "['dog', 'cat', 'panda', 'giraffe']\n"
    }
   ],
   "source": [
    "animals = ['dog', 'cat', 'panda']\n",
    "animals.append('giraffe')\n",
    "print(animals)"
   ]
  },
  {
   "cell_type": "markdown",
   "metadata": {},
   "source": [
    "`sort`\n",
    "* The Wrong Way"
   ]
  },
  {
   "cell_type": "code",
   "execution_count": 7,
   "metadata": {},
   "outputs": [
    {
     "output_type": "stream",
     "name": "stdout",
     "text": "None\n"
    }
   ],
   "source": [
    "seq = [1, 5, 4, 2, 3]\n",
    "sorted_seq = seq.sort()\n",
    "print(sorted_seq)\n",
    ""
   ]
  },
  {
   "cell_type": "markdown",
   "metadata": {},
   "source": [
    "* The Right Way"
   ]
  },
  {
   "cell_type": "code",
   "execution_count": 8,
   "metadata": {},
   "outputs": [
    {
     "output_type": "stream",
     "name": "stdout",
     "text": "[1, 2, 3, 4, 5]\n"
    }
   ],
   "source": [
    "seq = [1, 5, 4, 2, 3]\n",
    "seq.sort()\n",
    "print(seq)"
   ]
  },
  {
   "cell_type": "markdown",
   "metadata": {},
   "source": [
    "or"
   ]
  },
  {
   "cell_type": "code",
   "execution_count": 9,
   "metadata": {},
   "outputs": [
    {
     "output_type": "stream",
     "name": "stdout",
     "text": "[1, 2, 3, 4, 5]\n"
    }
   ],
   "source": [
    "seq = [1, 5, 4, 2, 3]\n",
    "sorted_seq = sorted(seq)\n",
    "print(sorted_seq)"
   ]
  },
  {
   "cell_type": "markdown",
   "metadata": {},
   "source": [
    "### Python List Methods vs. Numy Array Methods"
   ]
  },
  {
   "cell_type": "markdown",
   "metadata": {},
   "source": [
    "* Multiplication `*`"
   ]
  },
  {
   "cell_type": "code",
   "execution_count": 57,
   "metadata": {},
   "outputs": [
    {
     "output_type": "stream",
     "name": "stdout",
     "text": "[1, 3, 4, 1, 3, 4, 1, 3, 4]\n"
    }
   ],
   "source": [
    "list_ = [1, 3, 4] \n",
    "new_list = list_ * 3\n",
    "print(new_list)"
   ]
  },
  {
   "cell_type": "code",
   "execution_count": 58,
   "metadata": {},
   "outputs": [
    {
     "output_type": "stream",
     "name": "stdout",
     "text": "[ 3  9 12]\n"
    }
   ],
   "source": [
    "import numpy as np\n",
    "arr = np.array(list_) \n",
    "new_arr = arr * 3\n",
    "print(new_arr)"
   ]
  },
  {
   "cell_type": "markdown",
   "metadata": {},
   "source": [
    "* Concatenation/Add `+`"
   ]
  },
  {
   "cell_type": "code",
   "execution_count": 13,
   "metadata": {},
   "outputs": [
    {
     "output_type": "stream",
     "name": "stdout",
     "text": "[1, 2, 3, 4, 5, 7]\n"
    }
   ],
   "source": [
    "list1, list2 = [1, 2, 3], [4, 5, 7]\n",
    "new_list = list1 + list2\n",
    "print(new_list)"
   ]
  },
  {
   "cell_type": "code",
   "execution_count": 14,
   "metadata": {},
   "outputs": [
    {
     "output_type": "stream",
     "name": "stdout",
     "text": "[ 5  7 10]\n"
    }
   ],
   "source": [
    "arr1, arr2 = np.array(list1), np.array(list2)\n",
    "new_arr = arr1 + arr2\n",
    "print(new_arr)"
   ]
  },
  {
   "cell_type": "markdown",
   "metadata": {},
   "source": [
    "- COPY \n",
    "\n",
    "    - `copy.copy`      (shallow copy)\n",
    "    - `numpy.copy`     (deep copy) \n",
    "    - `copy.deepcopy`\n",
    "    - `numpy.view`\n"
   ]
  },
  {
   "cell_type": "code",
   "execution_count": 54,
   "metadata": {},
   "outputs": [
    {
     "output_type": "stream",
     "name": "stdout",
     "text": "old_list:\n [[100, 2, 3], [4, 5, 6]]\n\nnew_list:\n [[100, 2, 3], [4, 5, 6]]\n"
    }
   ],
   "source": [
    "\n",
    "import copy\n",
    "\n",
    "old_list = [[1,2,3], [4,5,6]]\n",
    "new_list = old_list.copy()\n",
    "# new_list = copy.copy(old_list)\n",
    "old_list[0][0] = 100\n",
    "\n",
    "print('old_list:\\n', old_list)\n",
    "print('\\nnew_list:\\n', new_list)\n"
   ]
  },
  {
   "cell_type": "code",
   "execution_count": 51,
   "metadata": {},
   "outputs": [
    {
     "output_type": "stream",
     "name": "stdout",
     "text": "old_arr:\n [[100   2   3]\n [  4   5   6]]\n\nnew_arr:\n [[1 2 3]\n [4 5 6]]\n"
    }
   ],
   "source": [
    "# numpy.copy\n",
    "import numpy as np\n",
    "\n",
    "old_arr = numpy.array([[1,2,3], [4,5,6]])\n",
    "new_arr = old_arr.copy()\n",
    "# new_arr = np.copy(old_arr)\n",
    "old_arr[0][0] = 100\n",
    "\n",
    "print('old_arr:\\n', old_arr)\n",
    "print('\\nnew_arr:\\n', new_arr)"
   ]
  },
  {
   "cell_type": "code",
   "execution_count": 52,
   "metadata": {},
   "outputs": [
    {
     "output_type": "stream",
     "name": "stdout",
     "text": "old_list:\n [[100, 2, 3], [4, 5, 6]]\n\nnew_list:\n [[1, 2, 3], [4, 5, 6]]\n"
    }
   ],
   "source": [
    "# copy.deepcopy\n",
    "\n",
    "old_list = [[1,2,3], [4,5,6]]\n",
    "new_list = copy.deepcopy(old_list)\n",
    "old_list[0][0] = 100\n",
    "\n",
    "print('old_list:\\n', old_list)\n",
    "print('\\nnew_list:\\n', new_list)"
   ]
  },
  {
   "cell_type": "code",
   "execution_count": 61,
   "metadata": {},
   "outputs": [
    {
     "output_type": "stream",
     "name": "stdout",
     "text": "old_arr:\n [[100   2   3]\n [  4   5   6]]\n\nnew_arr:\n [[100   2]\n [  3   4]\n [  5   6]]\n"
    }
   ],
   "source": [
    "# numpy.view\n",
    "\n",
    "old_arr = numpy.array([[1,2,3], [4,5,6]])\n",
    "new_arr = old_arr.view().reshape(3,2)\n",
    "old_arr[0][0] = 100\n",
    "\n",
    "print('old_arr:\\n', old_arr)\n",
    "print('\\nnew_arr:\\n', new_arr)"
   ]
  },
  {
   "cell_type": "markdown",
   "metadata": {},
   "source": [
    "### Iteration"
   ]
  },
  {
   "cell_type": "code",
   "execution_count": 76,
   "metadata": {},
   "outputs": [
    {
     "output_type": "stream",
     "name": "stdout",
     "text": "list1:\napple\n\ntuple1:\na\np\np\nl\ne\n\ntuple2:\napple\n"
    }
   ],
   "source": [
    "list1 = ['apple']\n",
    "tuple1 = ('apple')\n",
    "tuple2 = ('apple',)\n",
    "\n",
    "print('list1:')\n",
    "for item in list1:\n",
    "    print(item)\n",
    "\n",
    "print('\\ntuple1:')\n",
    "for item in tuple1:\n",
    "    print(item)\n",
    "\n",
    "print('\\ntuple2:')\n",
    "for item in tuple2:\n",
    "    print(item)\n",
    ""
   ]
  },
  {
   "cell_type": "code",
   "execution_count": 77,
   "metadata": {},
   "outputs": [
    {
     "output_type": "stream",
     "name": "stdout",
     "text": "indexing:\nc\na\nt\n\nslicing:\ncat\n"
    }
   ],
   "source": [
    "animals = ['cat', 'dog', 'panda']\n",
    "\n",
    "print('indexing:')\n",
    "for animal in animals[0]:\n",
    "    print(animal)\n",
    "\n",
    "print('\\nslicing:')\n",
    "for animal in animals[:1]:\n",
    "    print(animal)\n",
    ""
   ]
  }
 ]
}