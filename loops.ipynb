{
 "cells": [
  {
   "cell_type": "markdown",
   "metadata": {},
   "source": [
    "## Loops and Combination Examples"
   ]
  },
  {
   "cell_type": "markdown",
   "metadata": {},
   "source": [
    "This notebook includes several toy examples to demonstrate how to take advantage of python looping and `itertool` library."
   ]
  },
  {
   "cell_type": "markdown",
   "metadata": {},
   "source": [
    "####  Looping over participants"
   ]
  },
  {
   "cell_type": "code",
   "execution_count": 5,
   "metadata": {},
   "outputs": [],
   "source": [
    "subjects = ['GD', 'SL', 'FT', 'OS', 'DF', 'EG']\n",
    "n_subjects = len(subjects)"
   ]
  },
  {
   "cell_type": "markdown",
   "metadata": {},
   "source": [
    "* Use `range` (close to what we do in Matlab, not recommended)"
   ]
  },
  {
   "cell_type": "code",
   "execution_count": 10,
   "metadata": {},
   "outputs": [
    {
     "name": "stdout",
     "output_type": "stream",
     "text": [
      "GD, SL, FT, OS, DF, EG, "
     ]
    }
   ],
   "source": [
    "for i in range(n_subjects):\n",
    "    print(subjects[i], end=', ')"
   ]
  },
  {
   "cell_type": "markdown",
   "metadata": {},
   "source": [
    "* Use Lists as an iterable"
   ]
  },
  {
   "cell_type": "code",
   "execution_count": 7,
   "metadata": {},
   "outputs": [
    {
     "name": "stdout",
     "output_type": "stream",
     "text": [
      "GD, SL, FT, OS, DF, EG, "
     ]
    }
   ],
   "source": [
    "for sub in subjects:\n",
    "    print(sub, end=', ')"
   ]
  },
  {
   "cell_type": "markdown",
   "metadata": {},
   "source": [
    "* Use `enumerate`"
   ]
  },
  {
   "cell_type": "code",
   "execution_count": 12,
   "metadata": {},
   "outputs": [
    {
     "name": "stdout",
     "output_type": "stream",
     "text": [
      "subject 0 is GD\n",
      "subject 1 is SL\n",
      "subject 2 is FT\n",
      "subject 3 is OS\n",
      "subject 4 is DF\n",
      "subject 5 is EG\n"
     ]
    }
   ],
   "source": [
    "for idx, sub in enumerate(subjects):\n",
    "    print(f'subject {idx} is {sub}')"
   ]
  },
  {
   "cell_type": "markdown",
   "metadata": {},
   "source": [
    "####  Looping over participants and their between-group conditions"
   ]
  },
  {
   "cell_type": "code",
   "execution_count": 13,
   "metadata": {},
   "outputs": [],
   "source": [
    "subjects = ['GD', 'SL', 'FT', 'OS', 'DF', 'EG']\n",
    "conditions = ['low', 'high', 'low', 'high', 'low', 'high']"
   ]
  },
  {
   "cell_type": "markdown",
   "metadata": {},
   "source": [
    "* with `enumerate`"
   ]
  },
  {
   "cell_type": "code",
   "execution_count": 21,
   "metadata": {},
   "outputs": [
    {
     "name": "stdout",
     "output_type": "stream",
     "text": [
      "GD : low\n",
      "SL : high\n",
      "FT : low\n",
      "OS : high\n",
      "DF : low\n",
      "EG : high\n"
     ]
    }
   ],
   "source": [
    "for idx, sub in enumerate(subjects):\n",
    "    print(sub, ':', conditions[idx])"
   ]
  },
  {
   "cell_type": "markdown",
   "metadata": {},
   "source": [
    "* with `zip`"
   ]
  },
  {
   "cell_type": "code",
   "execution_count": 22,
   "metadata": {},
   "outputs": [
    {
     "name": "stdout",
     "output_type": "stream",
     "text": [
      "GD : low\n",
      "SL : high\n",
      "FT : low\n",
      "OS : high\n",
      "DF : low\n",
      "EG : high\n"
     ]
    }
   ],
   "source": [
    "for sub, cond in zip(subjects, conditions):\n",
    "    print(sub + ' : ' + cond)"
   ]
  },
  {
   "cell_type": "markdown",
   "metadata": {},
   "source": [
    "* with dictionary"
   ]
  },
  {
   "cell_type": "code",
   "execution_count": 25,
   "metadata": {},
   "outputs": [
    {
     "name": "stdout",
     "output_type": "stream",
     "text": [
      "GD : low\n",
      "SL : high\n",
      "FG : low\n",
      "OS : high\n",
      "DF : low\n",
      "EG : high\n"
     ]
    }
   ],
   "source": [
    "subject_conditions = {\n",
    "    'GD': 'low', 'SL': 'high', 'FG': 'low',\n",
    "    'OS': 'high', 'DF': 'low', 'EG': 'high'\n",
    "}\n",
    "\n",
    "for sub, cond in subject_conditions.items():\n",
    "    print(f'{sub} : {cond}')"
   ]
  },
  {
   "cell_type": "markdown",
   "metadata": {},
   "source": [
    "#### Use `itertools` instead of nested loops to combine two or more factors."
   ]
  },
  {
   "cell_type": "code",
   "execution_count": 37,
   "metadata": {},
   "outputs": [],
   "source": [
    "# say we have three crossed factors, and we want to generate their combinations\n",
    "\n",
    "stim_types = ['original', 'texform']\n",
    "animacy_levels = ['animal', 'object']\n",
    "size_levels = ['big', 'small']"
   ]
  },
  {
   "cell_type": "markdown",
   "metadata": {},
   "source": [
    "* use nested loops (not recommended)"
   ]
  },
  {
   "cell_type": "code",
   "execution_count": 32,
   "metadata": {
    "scrolled": true
   },
   "outputs": [
    {
     "name": "stdout",
     "output_type": "stream",
     "text": [
      "('original', 'animal', 'big')\n",
      "('original', 'animal', 'small')\n",
      "('original', 'object', 'big')\n",
      "('original', 'object', 'small')\n",
      "('texform', 'animal', 'big')\n",
      "('texform', 'animal', 'small')\n",
      "('texform', 'object', 'big')\n",
      "('texform', 'object', 'small')\n"
     ]
    }
   ],
   "source": [
    "conditions = []\n",
    "for stim in stim_types:\n",
    "    for animacy in animacy_levels:\n",
    "        for size in size_levels:\n",
    "            conditions.append((stim, animacy, size))\n",
    "\n",
    "for condition in conditions:\n",
    "    print(condition)"
   ]
  },
  {
   "cell_type": "markdown",
   "metadata": {},
   "source": [
    "* use `product`"
   ]
  },
  {
   "cell_type": "code",
   "execution_count": 34,
   "metadata": {},
   "outputs": [
    {
     "name": "stdout",
     "output_type": "stream",
     "text": [
      "('original', 'animal', 'big')\n",
      "('original', 'animal', 'small')\n",
      "('original', 'object', 'big')\n",
      "('original', 'object', 'small')\n",
      "('texform', 'animal', 'big')\n",
      "('texform', 'animal', 'small')\n",
      "('texform', 'object', 'big')\n",
      "('texform', 'object', 'small')\n"
     ]
    }
   ],
   "source": [
    "from itertools import product\n",
    "\n",
    "conditions = product(stim_types, animacy_levels, size_levels)\n",
    "\n",
    "for condition in conditions:\n",
    "    print(condition)"
   ]
  },
  {
   "cell_type": "code",
   "execution_count": null,
   "metadata": {},
   "outputs": [],
   "source": []
  }
 ],
 "metadata": {
  "kernelspec": {
   "display_name": "Python 3",
   "language": "python",
   "name": "python3"
  },
  "language_info": {
   "codemirror_mode": {
    "name": "ipython",
    "version": 3
   },
   "file_extension": ".py",
   "mimetype": "text/x-python",
   "name": "python",
   "nbconvert_exporter": "python",
   "pygments_lexer": "ipython3",
   "version": "3.6.5"
  }
 },
 "nbformat": 4,
 "nbformat_minor": 2
}
